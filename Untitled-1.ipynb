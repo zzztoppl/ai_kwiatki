{
 "cells": [
  {
   "cell_type": "code",
   "execution_count": 1,
   "metadata": {},
   "outputs": [],
   "source": [
    "import numpy as np\n",
    "import pandas as pd\n",
    "import matplotlib.pyplot as plt\n",
    "import cv2"
   ]
  },
  {
   "cell_type": "code",
   "execution_count": 3,
   "metadata": {},
   "outputs": [],
   "source": [
    "import numpy as np\n",
    "from tifffile import imread\n",
    "from sklearn.linear_model import LinearRegression\n",
    "import csv"
   ]
  },
  {
   "cell_type": "code",
   "execution_count": null,
   "metadata": {},
   "outputs": [],
   "source": []
  },
  {
   "cell_type": "code",
   "execution_count": null,
   "metadata": {},
   "outputs": [],
   "source": []
  },
  {
   "cell_type": "code",
   "execution_count": 4,
   "metadata": {},
   "outputs": [
    {
     "name": "stdout",
     "output_type": "stream",
     "text": [
      "Rozpoznany kolor kwiatów: [255 255   0]\n"
     ]
    }
   ],
   "source": [
    "import cv2\n",
    "import numpy as np\n",
    "\n",
    "def get_color(image):\n",
    "\n",
    "    image = cv2.cvtColor(image, cv2.COLOR_BGR2RGB)\n",
    "    \n",
    "    image = image.reshape((-1, 3))\n",
    "    image = np.float32(image)\n",
    "    \n",
    "    criteria = (cv2.TERM_CRITERIA_EPS + cv2.TERM_CRITERIA_MAX_ITER, 10, 1.0)\n",
    "    k = 4\n",
    "    \n",
    "    _, labels, centers = cv2.kmeans(image, k, None, criteria, 10, cv2.KMEANS_RANDOM_CENTERS)\n",
    "    counts = np.bincount(labels.flatten())\n",
    "    dominant_cluster = np.argmax(counts)\n",
    "    dominant_color = centers[dominant_cluster]\n",
    "    dominant_color = np.uint8([[dominant_color]])\n",
    "    \n",
    "    return dominant_color[0][0]\n",
    "\n",
    "image = cv2.imread('kwiaty.png')\n",
    "\n",
    "flower_color = get_color(image)\n",
    "print('Rozpoznany kolor kwiatów:', flower_color)\n",
    "#####################\n",
    "def get_color(image):\n",
    "\n",
    "    image = cv2.cvtColor(image, cv2.COLOR_BGR2RGB)\n",
    "    \n",
    "    image = image.reshape((-1, 3))\n",
    "    image = np.float32(image)\n",
    "    \n",
    "    criteria = (cv2.TERM_CRITERIA_EPS + cv2.TERM_CRITERIA_MAX_ITER, 10, 1.0)\n",
    "    k = 4\n",
    "    \n",
    "    _, labels, centers = cv2.kmeans(image, k, None, criteria, 10, cv2.KMEANS_RANDOM_CENTERS)\n",
    "    counts = np.bincount(labels.flatten())\n",
    "    dominant_cluster = np.argmax(counts)\n",
    "    dominant_color = centers[dominant_cluster]\n",
    "    dominant_color = np.uint8([[dominant_color]])\n",
    "    \n",
    "    return dominant_color[0][0]\n",
    "\n",
    "image = cv2.imread('kwiaty1.png')\n",
    "\n",
    "flower_color = get_color(image)\n",
    "print('Rozpoznany kolor kwiatów:', flower_color)"
   ]
  },
  {
   "cell_type": "code",
   "execution_count": 6,
   "metadata": {},
   "outputs": [
    {
     "name": "stdout",
     "output_type": "stream",
     "text": [
      "Rozpoznany kolor kwiatów: [255 254 255]\n"
     ]
    }
   ],
   "source": [
    "def get_color(image):\n",
    "\n",
    "    image = cv2.cvtColor(image, cv2.COLOR_BGR2RGB)\n",
    "    \n",
    "    image = image.reshape((-1, 3))\n",
    "    image = np.float32(image)\n",
    "    \n",
    "    criteria = (cv2.TERM_CRITERIA_EPS + cv2.TERM_CRITERIA_MAX_ITER, 10, 1.0)\n",
    "    k = 4\n",
    "    \n",
    "    _, labels, centers = cv2.kmeans(image, k, None, criteria, 10, cv2.KMEANS_RANDOM_CENTERS)\n",
    "    counts = np.bincount(labels.flatten())\n",
    "    dominant_cluster = np.argmax(counts)\n",
    "    dominant_color = centers[dominant_cluster]\n",
    "    dominant_color = np.uint8([[dominant_color]])\n",
    "    \n",
    "    return dominant_color[0][0]\n",
    "\n",
    "image = cv2.imread('kwiaty1.png')\n",
    "\n",
    "flower_color = get_color(image)\n",
    "print('Rozpoznany kolor kwiatów:', flower_color)"
   ]
  },
  {
   "cell_type": "code",
   "execution_count": 5,
   "metadata": {},
   "outputs": [
    {
     "name": "stdout",
     "output_type": "stream",
     "text": [
      "Rozpoznany kolor kwiatów: [253 253 251]\n"
     ]
    }
   ],
   "source": [
    "def get_color(image):\n",
    "\n",
    "    image = cv2.cvtColor(image, cv2.COLOR_BGR2RGB)\n",
    "    \n",
    "    image = image.reshape((-1, 3))\n",
    "    image = np.float32(image)\n",
    "    \n",
    "    criteria = (cv2.TERM_CRITERIA_EPS + cv2.TERM_CRITERIA_MAX_ITER, 10, 1.0)\n",
    "    k = 4\n",
    "    \n",
    "    _, labels, centers = cv2.kmeans(image, k, None, criteria, 10, cv2.KMEANS_RANDOM_CENTERS)\n",
    "    counts = np.bincount(labels.flatten())\n",
    "    dominant_cluster = np.argmax(counts)\n",
    "    dominant_color = centers[dominant_cluster]\n",
    "    dominant_color = np.uint8([[dominant_color]])\n",
    "    \n",
    "    return dominant_color[0][0]\n",
    "\n",
    "image = cv2.imread('kwiaty2.png')\n",
    "\n",
    "flower_color = get_color(image)\n",
    "print('Rozpoznany kolor kwiatów:', flower_color)"
   ]
  }
 ],
 "metadata": {
  "kernelspec": {
   "display_name": "base",
   "language": "python",
   "name": "python3"
  },
  "language_info": {
   "codemirror_mode": {
    "name": "ipython",
    "version": 3
   },
   "file_extension": ".py",
   "mimetype": "text/x-python",
   "name": "python",
   "nbconvert_exporter": "python",
   "pygments_lexer": "ipython3",
   "version": "3.10.4"
  },
  "orig_nbformat": 4
 },
 "nbformat": 4,
 "nbformat_minor": 2
}
