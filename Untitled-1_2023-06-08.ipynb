{
 "cells": [
  {
   "cell_type": "code",
   "execution_count": null,
   "metadata": {},
   "outputs": [],
   "source": [
    "import cv2\n",
    "import numpy as np\n",
    "def get_color(image):\n",
    "    image = cv2.cvtColor(image, cv2.COLOR_BGR2RGB)\n",
    "    image = image.reshape((-1, 3))\n",
    "    image = np.float32(image)\n",
    "    criteria = (cv2.TERM_CRITERIA_EPS + cv2.TERM_CRITERIA_MAX_ITER, 10, 1.0)\n",
    "    k = 4\n",
    "    _, labels, centers = cv2.kmeans(image, k, None, criteria, 10, cv2.KMEANS_RANDOM_CENTERS)\n",
    "    counts = np.bincount(labels.flatten())\n",
    "    dominant_cluster = np.argmax(counts)\n",
    "    dominant_color = centers[dominant_cluster]\n",
    "    dominant_color = np.uint8([[dominant_color]])\n",
    "    return dominant_color[0][0]\n",
    "def get_center_crop(image, crop_size):\n",
    "    height, width = image.shape[:2]\n",
    "    start_y = height // 2 - crop_size // 2\n",
    "    end_y = start_y + crop_size\n",
    "    start_x = width // 2 - crop_size // 2\n",
    "    end_x = start_x + crop_size\n",
    "    center_crop = image[start_y:end_y, start_x:end_x]\n",
    "    return center_crop\n",
    "image = cv2.imread('image.png')\n",
    "crop_size = 200\n",
    "center_crop = get_center_crop(image, crop_size)\n",
    "flower_color = get_color(center_crop)\n",
    "print('Rozpoznany kolor kwiatów:', flower_color)"
   ]
  }
 ],
 "metadata": {
  "language_info": {
   "name": "python"
  },
  "orig_nbformat": 4
 },
 "nbformat": 4,
 "nbformat_minor": 2
}
