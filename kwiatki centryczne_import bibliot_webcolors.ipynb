{
 "cells": [
  {
   "cell_type": "code",
   "execution_count": 2,
   "metadata": {},
   "outputs": [],
   "source": [
    "import cv2\n",
    "import numpy as np\n",
    "import webcolors\n"
   ]
  },
  {
   "cell_type": "markdown",
   "metadata": {},
   "source": []
  },
  {
   "cell_type": "code",
   "execution_count": 6,
   "metadata": {},
   "outputs": [
    {
     "name": "stdout",
     "output_type": "stream",
     "text": [
      "Rozpoznany kolor kwiatów w pliku 1.png : [114, 79, 10]  to znaczy Nieznany kolor\n",
      "Rozpoznany kolor kwiatów w pliku 2.png : [98, 77, 20]  to znaczy Nieznany kolor\n",
      "Rozpoznany kolor kwiatów w pliku 3.jpg : [229, 228, 219]  to znaczy Nieznany kolor\n",
      "Testowy kolor: [255, 0, 0] to znaczy red\n"
     ]
    }
   ],
   "source": [
    "def get_color(image):\n",
    "    image = cv2.cvtColor(image, cv2.COLOR_BGR2RGB)\n",
    "    image = image.reshape((-1, 3))\n",
    "    image = np.float32(image)\n",
    "    criteria = (cv2.TERM_CRITERIA_EPS + cv2.TERM_CRITERIA_MAX_ITER, 10, 1.0)\n",
    "    k = 4\n",
    "    _, labels, centers = cv2.kmeans(image, k, None, criteria, 10, cv2.KMEANS_RANDOM_CENTERS)\n",
    "    counts = np.bincount(labels.flatten())\n",
    "    dominant_cluster = np.argmax(counts)\n",
    "    dominant_color = centers[dominant_cluster]\n",
    "    dominant_color = np.uint8([[dominant_color]])\n",
    "    return dominant_color[0][0]\n",
    "\n",
    "def get_center_crop(image, crop_size):\n",
    "    height, width = image.shape[:2]\n",
    "    start_y = height // 2 - crop_size // 2\n",
    "    end_y = start_y + crop_size\n",
    "    start_x = width // 2 - crop_size // 2\n",
    "    end_x = start_x + crop_size\n",
    "    center_crop = image[start_y:end_y, start_x:end_x]\n",
    "    return center_crop\n",
    "\n",
    "def color_to_word(dominant_color):\n",
    "    try:\n",
    "        flower_color=webcolors.rgb_to_name(tuple(dominant_color))\n",
    "        return flower_color\n",
    "    except ValueError:\n",
    "        return 'Nieznany kolor'\n",
    "\n",
    "\n",
    "file_names = ['1.png', '2.png', '3.jpg']\n",
    "for file_name in file_names:\n",
    "    image = cv2.imread(file_name)\n",
    "    crop_size = 200\n",
    "    center_crop = get_center_crop(image, crop_size)\n",
    "    flower_color = get_color(center_crop)\n",
    "    flower_color_word=color_to_word(flower_color)\n",
    "    print('Rozpoznany kolor kwiatów w pliku', file_name, ':', flower_color.tolist(), ' to znaczy' ,flower_color_word)\n",
    "\n",
    "test_color=[255,0,0]\n",
    "test_color_word= color_to_word(test_color)\n",
    "print('Testowy kolor:', test_color, 'to znaczy', test_color_word)"
   ]
  },
  {
   "cell_type": "code",
   "execution_count": null,
   "metadata": {},
   "outputs": [],
   "source": []
  },
  {
   "cell_type": "code",
   "execution_count": null,
   "metadata": {},
   "outputs": [],
   "source": []
  }
 ],
 "metadata": {
  "kernelspec": {
   "display_name": "Python 3",
   "language": "python",
   "name": "python3"
  },
  "language_info": {
   "codemirror_mode": {
    "name": "ipython",
    "version": 3
   },
   "file_extension": ".py",
   "mimetype": "text/x-python",
   "name": "python",
   "nbconvert_exporter": "python",
   "pygments_lexer": "ipython3",
   "version": "3.10.4"
  },
  "orig_nbformat": 4
 },
 "nbformat": 4,
 "nbformat_minor": 2
}
